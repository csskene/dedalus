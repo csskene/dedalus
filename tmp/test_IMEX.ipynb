{
 "cells": [
  {
   "cell_type": "markdown",
   "id": "e509b5f4",
   "metadata": {},
   "source": [
    "# Linear IVP adjoint example"
   ]
  },
  {
   "cell_type": "markdown",
   "id": "855349a5",
   "metadata": {},
   "source": [
    "This example calculates the optimal initial perturbation $\\mathbf{u}(0)=\\mathbf{u}_0$ which maximises $\\mathbf{u}_T=\\mathbf{u}(T)$. In other words we maximise $\\mathcal{J}=\\langle \\mathbf{u}_T,\\mathbf{W} \\mathbf{u}_T\\rangle/\\langle \\mathbf{u}_0,\\mathbf{W} \\mathbf{u}_0\\rangle$, where $\\mathbf{W}$ is a weight matrix, subject to $\\mathbf{u}=(u,v,w)^T$ solving\n",
    "\\begin{eqnarray}\n",
    "\\frac{\\partial u}{\\partial t} + i\\alpha u u_0 + u \\frac{du_0}{dy} &=& i\\alpha p + \\frac{1}{\\textit{Re}}\\left(-\\alpha^2u-\\beta^2u + \\frac{d^2u}{dy^2}\\right),\\\\\n",
    "\\frac{\\partial v}{\\partial t} + i\\alpha v u_0 &=& \\frac{dp}{dy} + \\frac{1}{\\textit{Re}}\\left(-\\alpha^2v-\\beta^2v + \\frac{d^2v}{dy^2}\\right),\\\\\n",
    "\\frac{\\partial w}{\\partial t} + i\\alpha w u_0 &=& i\\beta p + \\frac{1}{\\textit{Re}}\\left(-\\alpha^2w-\\beta^2w + \\frac{d^2w}{dy^2}\\right),\\\\\n",
    "i\\alpha u + \\frac{dv}{dy}+i\\beta w &=& 0.\n",
    "\\end{eqnarray}\n",
    "$\\mathbf{W}$ is chosen so that $\\langle \\mathbf{u},\\mathbf{W} \\mathbf{u}\\rangle\\approx\\int \\bar{\\mathbf{u}}\\cdot  \\mathbf{u}\\;\\textrm{d}y$.\n",
    "\n",
    "The notebook is setup to calculate the stable line in figure 4.3 a) of 'Stability and transition in shear flows', Schmid and Henningson. "
   ]
  },
  {
   "cell_type": "code",
   "execution_count": 1,
   "id": "d20449b2",
   "metadata": {},
   "outputs": [],
   "source": [
    "import matplotlib.pyplot as plt\n",
    "import dedalus.public as d3\n",
    "import logging\n",
    "import numpy as np\n",
    "\n",
    "from dedalus.tools import jacobi\n",
    "from dedalus.core import operators\n",
    "from scipy import optimize\n",
    "\n",
    "logger = logging.getLogger(__name__)"
   ]
  },
  {
   "cell_type": "markdown",
   "id": "6b714c59",
   "metadata": {},
   "source": [
    "Set up the IVP that will find $\\mathbf{u}_T$ from $\\mathbf{u}_0$"
   ]
  },
  {
   "cell_type": "code",
   "execution_count": 2,
   "id": "1e095bdd",
   "metadata": {},
   "outputs": [],
   "source": [
    "# Parameters\n",
    "Ny = 128\n",
    "dtype = np.complex128\n",
    "\n",
    "# Bases\n",
    "coords = d3.CartesianCoordinates('y')\n",
    "dist = d3.Distributor(coords, dtype=dtype)\n",
    "ybasis = d3.ChebyshevT(coords['y'], size=Ny,dealias=1, bounds=(0, 2))\n",
    "\n",
    "y, = dist.local_grids(ybasis)\n",
    "\n",
    "dy = lambda A: d3.Differentiate(A, coords['y'])\n",
    "\n",
    "# Fields\n",
    "u = dist.Field(name='u', bases=(ybasis))\n",
    "v = dist.Field(name='v', bases=(ybasis))\n",
    "w = dist.Field(name='w', bases=(ybasis))\n",
    "\n",
    "u0 = dist.Field(name='u0', bases=(ybasis))\n",
    "v0 = dist.Field(name='v0', bases=(ybasis))\n",
    "w0 = dist.Field(name='w0', bases=(ybasis))\n",
    "\n",
    "gradu = dist.Field(name='gradu', bases=(ybasis))\n",
    "gradv = dist.Field(name='gradv', bases=(ybasis))\n",
    "gradw = dist.Field(name='gradw', bases=(ybasis))\n",
    "\n",
    "U = dist.Field(name='U',bases=(ybasis))\n",
    "U['g'] = y*(2-y)\n",
    "Uy = dy(U)\n",
    "alpha = 1\n",
    "beta = 0\n",
    "p = dist.Field(name='p', bases=(ybasis))\n",
    "tau_u_1 = dist.Field(name='tau_u_1')\n",
    "tau_u_2 = dist.Field(name='tau_u_2')\n",
    "\n",
    "tau_v_1 = dist.Field(name='tau_v_1')\n",
    "tau_v_2 = dist.Field(name='tau_v_2')\n",
    "\n",
    "tau_w_1 = dist.Field(name='tau_w_1')\n",
    "tau_w_2 = dist.Field(name='tau_w_2')\n",
    "\n",
    "tau_p = dist.Field(name='tau_p')\n",
    "\n",
    "ybasis2 = ybasis.derivative_basis(2)\n",
    "\n",
    "# # Substitutions\n",
    "lift_basis = ybasis.derivative_basis(2)\n",
    "lift = lambda A, n: d3.Lift(A, lift_basis, n)\n",
    "Re = 5000\n",
    "\n",
    "# # Problem\n",
    "problem = d3.IVP([u,v,w,p, tau_u_1, tau_u_2,tau_v_1, tau_v_2,tau_w_1, tau_w_2], namespace=locals())\n",
    "problem.add_equation(\"dt(u) + 1j*alpha*u*U + v*Uy - 1/Re*(dy(dy(u))-alpha**2*u-beta**2*u) + lift(tau_u_1,-1) + lift(tau_u_2,-2) + 1j*alpha*p = 0\")\n",
    "problem.add_equation(\"dt(v) + 1j*alpha*v*U - 1/Re*(dy(dy(v))-alpha**2*v-beta**2*v) + lift(tau_v_1,-1) + lift(tau_v_2,-2) + dy(p) = 0\")\n",
    "problem.add_equation(\"dt(w) + 1j*alpha*w*U - 1/Re*(dy(dy(w))-alpha**2*w-beta**2*w) + lift(tau_w_1,-1) + lift(tau_w_2,-2) + 1j*beta*p = 0\")\n",
    "problem.add_equation(\"1j*alpha*u + dy(v) + 1j*beta*w = 0\")\n",
    "\n",
    "problem.add_equation(\"u(y=0) = 0\")\n",
    "problem.add_equation(\"u(y=2) = 0\")\n",
    "\n",
    "problem.add_equation(\"v(y=0) = 0\")\n",
    "problem.add_equation(\"v(y=2) = 0\")\n",
    "\n",
    "problem.add_equation(\"w(y=0) = 0\")\n",
    "problem.add_equation(\"w(y=2) = 0\")"
   ]
  },
  {
   "cell_type": "markdown",
   "id": "3a581697",
   "metadata": {},
   "source": [
    "## Test\n",
    "First we test forward and adjoint solves using the fact that $\\langle \\mathbf{u}_T^\\dagger,\\mathbf{u}_T\\rangle=\\langle \\mathbf{u}_0^\\dagger,\\mathbf{u}_0\\rangle$."
   ]
  },
  {
   "cell_type": "code",
   "execution_count": 3,
   "id": "ef414bca",
   "metadata": {},
   "outputs": [],
   "source": [
    "a0 = np.random.rand(Ny)+1j*np.random.rand(Ny)\n",
    "a1 = (np.random.rand(Ny)+1j*np.random.rand(Ny))\n",
    "a2 = (np.random.rand(Ny)+1j*np.random.rand(Ny))\n",
    "\n",
    "b0 = np.random.rand(Ny)+1j*np.random.rand(Ny)\n",
    "b1 = (np.random.rand(Ny)+1j*np.random.rand(Ny))\n",
    "b2 = (np.random.rand(Ny)+1j*np.random.rand(Ny))"
   ]
  },
  {
   "cell_type": "code",
   "execution_count": 4,
   "id": "afd6d299",
   "metadata": {},
   "outputs": [
    {
     "name": "stdout",
     "output_type": "stream",
     "text": [
      "2023-05-10 17:23:26,712 subsystems 0/1 INFO :: Building subproblem matrices 1/1 (~100%) Elapsed: 0s, Remaining: 0s, Rate: 8.5e+00/s\n",
      "p\n",
      "tau_u_1\n",
      "tau_u_2\n",
      "tau_v_1\n",
      "tau_v_2\n",
      "tau_w_1\n",
      "tau_w_2\n",
      "2023-05-10 17:23:26,715 __main__ 0/1 INFO :: Starting main loop\n",
      "2023-05-10 17:23:26,843 solvers 0/1 INFO :: Stop iteration reached.\n",
      "2023-05-10 17:23:26,843 solvers 0/1 INFO :: Final iteration: 100\n",
      "2023-05-10 17:23:26,844 solvers 0/1 INFO :: Final sim time: 5.490908829651666\n",
      "2023-05-10 17:23:26,845 solvers 0/1 INFO :: Setup time (init - iter 0): 0.1407 sec\n",
      "2023-05-10 17:23:26,845 solvers 0/1 INFO :: Warmup time (iter 0-10): 0.02038 sec\n",
      "2023-05-10 17:23:26,846 solvers 0/1 INFO :: Run time (iter 10-end): 0.1071 sec\n",
      "2023-05-10 17:23:26,847 solvers 0/1 INFO :: CPU time (iter 10-end): 2.975e-05 cpu-hr\n",
      "2023-05-10 17:23:26,848 solvers 0/1 INFO :: Speed: 4.353e+05 mode-stages/cpu-sec\n"
     ]
    }
   ],
   "source": [
    "u['c'] = a0\n",
    "v['c'] = a1\n",
    "w['c'] = a2\n",
    "solver = problem.build_solver(d3.SBDF4)\n",
    "\n",
    "for (i,state) in enumerate(solver.state):\n",
    "    if(i>2):\n",
    "        print(state)\n",
    "        state['g'] = 0\n",
    "\n",
    "solver.stop_iteration = 100\n",
    "timestep = 0.1\n",
    "try:\n",
    "    logger.info('Starting main loop')\n",
    "    while solver.proceed:\n",
    "        solver.step(timestep*np.abs(np.random.rand()))\n",
    "#         solver.step(timestep)\n",
    "except:\n",
    "    logger.error('Exception raised, triggering end of main loop.')\n",
    "    raise\n",
    "finally:\n",
    "    solver.log_stats()\n",
    "Ga0 = u['c']\n",
    "Ga1 = v['c']\n",
    "Ga2 = w['c']"
   ]
  },
  {
   "cell_type": "code",
   "execution_count": 5,
   "id": "ceded259",
   "metadata": {},
   "outputs": [
    {
     "name": "stdout",
     "output_type": "stream",
     "text": [
      "p_adj\n",
      "tau_u_1_adj\n",
      "tau_u_2_adj\n",
      "tau_v_1_adj\n",
      "tau_v_2_adj\n",
      "tau_w_1_adj\n",
      "tau_w_2_adj\n",
      "2023-05-10 17:23:26,856 __main__ 0/1 INFO :: Starting adjoint loop\n",
      "2023-05-10 17:23:26,858 solvers 0/1 INFO :: Warning: Only works if F==0 and linear direct equation.\n",
      "2023-05-10 17:23:27,246 solvers 0/1 INFO :: Final iteration: 0\n",
      "2023-05-10 17:23:27,247 solvers 0/1 INFO :: Final sim time: 1.8735013540549517e-16\n",
      "2023-05-10 17:23:27,247 solvers 0/1 INFO :: Setup time (init - iter 0): 0.1407 sec\n",
      "2023-05-10 17:23:27,248 solvers 0/1 INFO :: Timings unavailable because warmup did not complete.\n"
     ]
    }
   ],
   "source": [
    "solver.state_adj[0]['c'] = b0\n",
    "solver.state_adj[1]['c'] = b1\n",
    "solver.state_adj[2]['c'] = b2\n",
    "\n",
    "for (i,state) in enumerate(solver.state_adj):\n",
    "    if(i>2):\n",
    "        print(state)\n",
    "        state['g'] = 0\n",
    "\n",
    "try:\n",
    "    logger.info('Starting adjoint loop')\n",
    "    while solver.iteration>0:\n",
    "        solver.step_adjoint()\n",
    "\n",
    "except:\n",
    "    logger.error('Exception raised, triggering end of main loop.')\n",
    "    raise\n",
    "finally:\n",
    "    solver.log_stats()\n",
    "    \n",
    "GTb0 = solver.state_adj[0]['c']\n",
    "GTb1 = solver.state_adj[1]['c']\n",
    "GTb2 = solver.state_adj[2]['c']"
   ]
  },
  {
   "cell_type": "code",
   "execution_count": 6,
   "id": "856e6259",
   "metadata": {},
   "outputs": [],
   "source": [
    "term1 = np.vdot(b0,Ga0) +  np.vdot(b1,Ga1) +  np.vdot(b2,Ga2)\n",
    "term2 = np.vdot(GTb0,a0) + np.vdot(GTb1,a1) + np.vdot(GTb2,a2)"
   ]
  },
  {
   "cell_type": "code",
   "execution_count": 7,
   "id": "25b87aa4",
   "metadata": {},
   "outputs": [
    {
     "name": "stdout",
     "output_type": "stream",
     "text": [
      "(0.3462145580684196+0.8173668301405659j) (0.34621455806833684+0.8173668301403697j)\n",
      "error = 2.3986640070777424e-13\n"
     ]
    }
   ],
   "source": [
    "print(term1,term2)\n",
    "print('error =',np.abs(term1-term2)/np.abs(term1))"
   ]
  },
  {
   "cell_type": "code",
   "execution_count": null,
   "id": "5f36dc70",
   "metadata": {},
   "outputs": [],
   "source": []
  },
  {
   "cell_type": "code",
   "execution_count": null,
   "id": "de145412",
   "metadata": {},
   "outputs": [],
   "source": []
  }
 ],
 "metadata": {
  "@webio": {
   "lastCommId": null,
   "lastKernelId": null
  },
  "kernelspec": {
   "display_name": "Python [conda env:dedalus-adj]",
   "language": "python",
   "name": "conda-env-dedalus-adj-py"
  },
  "language_info": {
   "codemirror_mode": {
    "name": "ipython",
    "version": 3
   },
   "file_extension": ".py",
   "mimetype": "text/x-python",
   "name": "python",
   "nbconvert_exporter": "python",
   "pygments_lexer": "ipython3",
   "version": "3.10.6"
  }
 },
 "nbformat": 4,
 "nbformat_minor": 5
}
