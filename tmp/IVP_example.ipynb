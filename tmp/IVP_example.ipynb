{
 "cells": [
  {
   "cell_type": "code",
   "execution_count": 1,
   "id": "d20449b2",
   "metadata": {},
   "outputs": [],
   "source": [
    "import matplotlib.pyplot as plt\n",
    "import dedalus.public as d3\n",
    "import logging\n",
    "import numpy as np\n",
    "\n",
    "from dedalus.tools import jacobi\n",
    "from dedalus.core import operators\n",
    "from scipy import optimize\n",
    "\n",
    "logger = logging.getLogger(__name__)"
   ]
  },
  {
   "cell_type": "code",
   "execution_count": 2,
   "id": "1e095bdd",
   "metadata": {},
   "outputs": [],
   "source": [
    "# Parameters\n",
    "Ny = 128\n",
    "dtype = np.complex128\n",
    "\n",
    "# Bases\n",
    "coords = d3.CartesianCoordinates('y')\n",
    "dist = d3.Distributor(coords, dtype=dtype)\n",
    "ybasis = d3.ChebyshevT(coords['y'], size=Ny,dealias=1, bounds=(0, 2))\n",
    "\n",
    "y, = dist.local_grids(ybasis)\n",
    "\n",
    "dy = lambda A: d3.Differentiate(A, coords['y'])\n",
    "\n",
    "# Fields\n",
    "u = dist.Field(name='u', bases=(ybasis))\n",
    "v = dist.Field(name='v', bases=(ybasis))\n",
    "w = dist.Field(name='w', bases=(ybasis))\n",
    "\n",
    "gradu = dist.Field(name='gradu', bases=(ybasis))\n",
    "gradv = dist.Field(name='gradv', bases=(ybasis))\n",
    "gradw = dist.Field(name='gradw', bases=(ybasis))\n",
    "\n",
    "U = dist.Field(name='U',bases=(ybasis))\n",
    "U['g'] = y*(2-y)\n",
    "Uy = dy(U)\n",
    "alpha = -1\n",
    "beta = 0\n",
    "p = dist.Field(name='p', bases=(ybasis))\n",
    "tau_u_1 = dist.Field(name='tau_u_1')\n",
    "tau_u_2 = dist.Field(name='tau_u_2')\n",
    "\n",
    "tau_v_1 = dist.Field(name='tau_v_1')\n",
    "tau_v_2 = dist.Field(name='tau_v_2')\n",
    "\n",
    "tau_w_1 = dist.Field(name='tau_w_1')\n",
    "tau_w_2 = dist.Field(name='tau_w_2')\n",
    "\n",
    "tau_p = dist.Field(name='tau_p')\n",
    "\n",
    "ybasis2 = ybasis.derivative_basis(2)\n",
    "\n",
    "# # Substitutions\n",
    "lift_basis = ybasis.derivative_basis(2)\n",
    "lift = lambda A, n: d3.Lift(A, lift_basis, n)\n",
    "Re = 1000\n",
    "\n",
    "# # Problem\n",
    "problem = d3.IVP([u,v,w,p, tau_u_1, tau_u_2,tau_v_1, tau_v_2,tau_w_1, tau_w_2], namespace=locals())\n",
    "problem.add_equation(\"dt(u) + 1j*alpha*u*U + v*Uy - 1/Re*(dy(dy(u))-alpha**2*u-beta**2*u) + lift(tau_u_1,-1) + lift(tau_u_2,-2) + 1j*alpha*p = 0\")\n",
    "problem.add_equation(\"dt(v) + 1j*alpha*v*U - 1/Re*(dy(dy(v))-alpha**2*v-beta**2*v) + lift(tau_v_1,-1) + lift(tau_v_2,-2) + dy(p) = 0\")\n",
    "problem.add_equation(\"dt(w) + 1j*alpha*w*U - 1/Re*(dy(dy(w))-alpha**2*w-beta**2*w) + lift(tau_w_1,-1) + lift(tau_w_2,-2) + 1j*beta*p = 0\")\n",
    "problem.add_equation(\"1j*alpha*u + dy(v) + 1j*beta*w = 0\")\n",
    "\n",
    "problem.add_equation(\"u(y=0) = 0\")\n",
    "problem.add_equation(\"u(y=2) = 0\")\n",
    "\n",
    "problem.add_equation(\"v(y=0) = 0\")\n",
    "problem.add_equation(\"v(y=2) = 0\")\n",
    "\n",
    "problem.add_equation(\"w(y=0) = 0\")\n",
    "problem.add_equation(\"w(y=2) = 0\")"
   ]
  },
  {
   "cell_type": "markdown",
   "id": "3a581697",
   "metadata": {},
   "source": [
    "## Test"
   ]
  },
  {
   "cell_type": "code",
   "execution_count": 3,
   "id": "ef414bca",
   "metadata": {},
   "outputs": [],
   "source": [
    "a = np.random.rand(Ny)+1j*np.random.rand(Ny)\n",
    "b = np.random.rand(Ny)+1j*np.random.rand(Ny)"
   ]
  },
  {
   "cell_type": "code",
   "execution_count": 4,
   "id": "afd6d299",
   "metadata": {},
   "outputs": [
    {
     "name": "stdout",
     "output_type": "stream",
     "text": [
      "2023-05-02 13:36:41,877 subsystems 0/1 INFO :: Building subproblem matrices 1/1 (~100%) Elapsed: 0s, Remaining: 0s, Rate: 8.9e+00/s\n",
      "2023-05-02 13:36:41,879 __main__ 0/1 INFO :: Starting main loop\n",
      "2023-05-02 13:36:42,660 solvers 0/1 INFO :: Stop iteration reached.\n",
      "2023-05-02 13:36:42,661 solvers 0/1 INFO :: Final iteration: 1000\n",
      "2023-05-02 13:36:42,662 solvers 0/1 INFO :: Final sim time: 1.0000000000000007\n",
      "2023-05-02 13:36:42,663 solvers 0/1 INFO :: Setup time (init - iter 0): 0.1342 sec\n",
      "2023-05-02 13:36:42,663 solvers 0/1 INFO :: Warmup time (iter 0-10): 0.02013 sec\n",
      "2023-05-02 13:36:42,664 solvers 0/1 INFO :: Run time (iter 10-end): 0.7606 sec\n",
      "2023-05-02 13:36:42,665 solvers 0/1 INFO :: CPU time (iter 10-end): 0.0002113 cpu-hr\n",
      "2023-05-02 13:36:42,666 solvers 0/1 INFO :: Speed: 2.697e+06 mode-stages/cpu-sec\n"
     ]
    }
   ],
   "source": [
    "u['c'] = a\n",
    "# Solver\n",
    "solver = problem.build_solver(d3.RK443)\n",
    "solver.stop_iteration = 1000\n",
    "timestep = 1e-3\n",
    "try:\n",
    "    logger.info('Starting main loop')\n",
    "    while solver.proceed:\n",
    "        solver.step(timestep)\n",
    "except:\n",
    "    logger.error('Exception raised, triggering end of main loop.')\n",
    "    raise\n",
    "finally:\n",
    "    solver.log_stats()\n",
    "Ga = u['c']"
   ]
  },
  {
   "cell_type": "code",
   "execution_count": 5,
   "id": "ceded259",
   "metadata": {},
   "outputs": [
    {
     "name": "stdout",
     "output_type": "stream",
     "text": [
      "2023-05-02 13:36:42,675 __main__ 0/1 INFO :: Starting adjoint loop\n",
      "2023-05-02 13:36:42,677 solvers 0/1 INFO :: Warning: Only works if F==0 and linear direct equation.\n",
      "2023-05-02 13:36:46,074 solvers 0/1 INFO :: Final iteration: 0\n",
      "2023-05-02 13:36:46,075 solvers 0/1 INFO :: Final sim time: -2.1510571102112408e-16\n",
      "2023-05-02 13:36:46,076 solvers 0/1 INFO :: Setup time (init - iter 0): 0.1342 sec\n",
      "2023-05-02 13:36:46,076 solvers 0/1 INFO :: Timings unavailable because warmup did not complete.\n"
     ]
    }
   ],
   "source": [
    "solver.state_adj[0]['c'] = b\n",
    "\n",
    "try:\n",
    "    logger.info('Starting adjoint loop')\n",
    "    while solver.iteration>0:\n",
    "        solver.step_adjoint(timestep)\n",
    "except:\n",
    "    logger.error('Exception raised, triggering end of main loop.')\n",
    "    raise\n",
    "finally:\n",
    "    solver.log_stats()\n",
    "    \n",
    "GTb = solver.state_adj[0]['c']"
   ]
  },
  {
   "cell_type": "code",
   "execution_count": 6,
   "id": "856e6259",
   "metadata": {},
   "outputs": [],
   "source": [
    "term1 = np.vdot(b,Ga)\n",
    "term2 = np.vdot(GTb,a)"
   ]
  },
  {
   "cell_type": "code",
   "execution_count": 7,
   "id": "16454f70",
   "metadata": {},
   "outputs": [
    {
     "name": "stdout",
     "output_type": "stream",
     "text": [
      "(-0.21139460135487403-0.13320223208119897j) (-0.21139460135493626-0.133202232081364j)\n"
     ]
    }
   ],
   "source": [
    "print(term1,term2)"
   ]
  },
  {
   "cell_type": "code",
   "execution_count": 8,
   "id": "726ad787",
   "metadata": {},
   "outputs": [
    {
     "name": "stdout",
     "output_type": "stream",
     "text": [
      "Rel. error =  7.058995511712877e-13\n"
     ]
    }
   ],
   "source": [
    "print('Rel. error = ', np.abs(term1-term2)/np.abs(term1))"
   ]
  },
  {
   "cell_type": "code",
   "execution_count": null,
   "id": "67714a9a",
   "metadata": {},
   "outputs": [],
   "source": []
  }
 ],
 "metadata": {
  "@webio": {
   "lastCommId": null,
   "lastKernelId": null
  },
  "kernelspec": {
   "display_name": "Python [conda env:dedalus-adj]",
   "language": "python",
   "name": "conda-env-dedalus-adj-py"
  },
  "language_info": {
   "codemirror_mode": {
    "name": "ipython",
    "version": 3
   },
   "file_extension": ".py",
   "mimetype": "text/x-python",
   "name": "python",
   "nbconvert_exporter": "python",
   "pygments_lexer": "ipython3",
   "version": "3.10.6"
  }
 },
 "nbformat": 4,
 "nbformat_minor": 5
}
